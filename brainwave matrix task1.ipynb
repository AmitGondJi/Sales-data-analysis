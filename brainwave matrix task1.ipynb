{
 "cells": [
  {
   "cell_type": "markdown",
   "id": "fa5282a0-25a6-4109-86a4-469b97d94b18",
   "metadata": {},
   "source": [
    "#  sales data analysis"
   ]
  },
  {
   "cell_type": "code",
   "execution_count": 26,
   "id": "d4ad2aff-1069-49ea-8570-37aa91d7942a",
   "metadata": {},
   "outputs": [],
   "source": [
    "import pandas as pd\n",
    "import numpy as np\n",
    "import matplotlib.pyplot as plt\n",
    "import seaborn as sns\n",
    "from sklearn.linear_model import LinearRegression\n",
    "from sklearn.model_selection import train_test_split\n",
    "from sklearn.metrics import mean_absolute_error, r2_score"
   ]
  },
  {
   "cell_type": "code",
   "execution_count": 3,
   "id": "86030d7a-b4c4-412a-aadd-9bc70dbf5faa",
   "metadata": {},
   "outputs": [],
   "source": [
    "df = pd.read_csv(\"sales_data.csv\")\n"
   ]
  },
  {
   "cell_type": "code",
   "execution_count": 4,
   "id": "e4aee3ce-ff7b-4218-9294-887ba02b9d93",
   "metadata": {},
   "outputs": [
    {
     "name": "stdout",
     "output_type": "stream",
     "text": [
      "<class 'pandas.core.frame.DataFrame'>\n",
      "RangeIndex: 200 entries, 0 to 199\n",
      "Data columns (total 9 columns):\n",
      " #   Column          Non-Null Count  Dtype \n",
      "---  ------          --------------  ----- \n",
      " 0   Date            200 non-null    object\n",
      " 1   Invoice_ID      200 non-null    object\n",
      " 2   Product_Name    200 non-null    object\n",
      " 3   Category        200 non-null    object\n",
      " 4   Quantity        200 non-null    int64 \n",
      " 5   Price           200 non-null    int64 \n",
      " 6   Total_Sales     200 non-null    int64 \n",
      " 7   Customer_ID     200 non-null    object\n",
      " 8   Payment_Method  200 non-null    object\n",
      "dtypes: int64(3), object(6)\n",
      "memory usage: 14.2+ KB\n"
     ]
    }
   ],
   "source": [
    "df.info()"
   ]
  },
  {
   "cell_type": "code",
   "execution_count": 5,
   "id": "bb4cc181-6b9b-4a20-bafa-06c51a355a38",
   "metadata": {},
   "outputs": [
    {
     "data": {
      "text/html": [
       "<div>\n",
       "<style scoped>\n",
       "    .dataframe tbody tr th:only-of-type {\n",
       "        vertical-align: middle;\n",
       "    }\n",
       "\n",
       "    .dataframe tbody tr th {\n",
       "        vertical-align: top;\n",
       "    }\n",
       "\n",
       "    .dataframe thead th {\n",
       "        text-align: right;\n",
       "    }\n",
       "</style>\n",
       "<table border=\"1\" class=\"dataframe\">\n",
       "  <thead>\n",
       "    <tr style=\"text-align: right;\">\n",
       "      <th></th>\n",
       "      <th>Date</th>\n",
       "      <th>Invoice_ID</th>\n",
       "      <th>Product_Name</th>\n",
       "      <th>Category</th>\n",
       "      <th>Quantity</th>\n",
       "      <th>Price</th>\n",
       "      <th>Total_Sales</th>\n",
       "      <th>Customer_ID</th>\n",
       "      <th>Payment_Method</th>\n",
       "    </tr>\n",
       "  </thead>\n",
       "  <tbody>\n",
       "    <tr>\n",
       "      <th>0</th>\n",
       "      <td>2024-01-01 00:00:00.000000000</td>\n",
       "      <td>INV1000</td>\n",
       "      <td>Smartphone</td>\n",
       "      <td>Electronics</td>\n",
       "      <td>1</td>\n",
       "      <td>49098</td>\n",
       "      <td>49098</td>\n",
       "      <td>CUST18</td>\n",
       "      <td>UPI</td>\n",
       "    </tr>\n",
       "    <tr>\n",
       "      <th>1</th>\n",
       "      <td>2024-01-01 21:49:44.924623115</td>\n",
       "      <td>INV1001</td>\n",
       "      <td>Tablet</td>\n",
       "      <td>Electronics</td>\n",
       "      <td>2</td>\n",
       "      <td>48765</td>\n",
       "      <td>97530</td>\n",
       "      <td>CUST7</td>\n",
       "      <td>Cash</td>\n",
       "    </tr>\n",
       "    <tr>\n",
       "      <th>2</th>\n",
       "      <td>2024-01-02 19:39:29.849246231</td>\n",
       "      <td>INV1002</td>\n",
       "      <td>Jeans</td>\n",
       "      <td>Fashion</td>\n",
       "      <td>4</td>\n",
       "      <td>460</td>\n",
       "      <td>1840</td>\n",
       "      <td>CUST2</td>\n",
       "      <td>Cash</td>\n",
       "    </tr>\n",
       "    <tr>\n",
       "      <th>3</th>\n",
       "      <td>2024-01-03 17:29:14.773869346</td>\n",
       "      <td>INV1003</td>\n",
       "      <td>Tablet</td>\n",
       "      <td>Electronics</td>\n",
       "      <td>2</td>\n",
       "      <td>33618</td>\n",
       "      <td>67236</td>\n",
       "      <td>CUST39</td>\n",
       "      <td>Cash</td>\n",
       "    </tr>\n",
       "    <tr>\n",
       "      <th>4</th>\n",
       "      <td>2024-01-04 15:18:59.698492462</td>\n",
       "      <td>INV1004</td>\n",
       "      <td>T-shirt</td>\n",
       "      <td>Fashion</td>\n",
       "      <td>2</td>\n",
       "      <td>4664</td>\n",
       "      <td>9328</td>\n",
       "      <td>CUST27</td>\n",
       "      <td>UPI</td>\n",
       "    </tr>\n",
       "  </tbody>\n",
       "</table>\n",
       "</div>"
      ],
      "text/plain": [
       "                            Date Invoice_ID Product_Name     Category  \\\n",
       "0  2024-01-01 00:00:00.000000000    INV1000   Smartphone  Electronics   \n",
       "1  2024-01-01 21:49:44.924623115    INV1001       Tablet  Electronics   \n",
       "2  2024-01-02 19:39:29.849246231    INV1002        Jeans      Fashion   \n",
       "3  2024-01-03 17:29:14.773869346    INV1003       Tablet  Electronics   \n",
       "4  2024-01-04 15:18:59.698492462    INV1004      T-shirt      Fashion   \n",
       "\n",
       "   Quantity  Price  Total_Sales Customer_ID Payment_Method  \n",
       "0         1  49098        49098      CUST18            UPI  \n",
       "1         2  48765        97530       CUST7           Cash  \n",
       "2         4    460         1840       CUST2           Cash  \n",
       "3         2  33618        67236      CUST39           Cash  \n",
       "4         2   4664         9328      CUST27            UPI  "
      ]
     },
     "execution_count": 5,
     "metadata": {},
     "output_type": "execute_result"
    }
   ],
   "source": [
    "df.head()"
   ]
  },
  {
   "cell_type": "code",
   "execution_count": 6,
   "id": "6d8234c1-7575-4555-b5ee-a135f710d735",
   "metadata": {},
   "outputs": [
    {
     "data": {
      "text/html": [
       "<div>\n",
       "<style scoped>\n",
       "    .dataframe tbody tr th:only-of-type {\n",
       "        vertical-align: middle;\n",
       "    }\n",
       "\n",
       "    .dataframe tbody tr th {\n",
       "        vertical-align: top;\n",
       "    }\n",
       "\n",
       "    .dataframe thead th {\n",
       "        text-align: right;\n",
       "    }\n",
       "</style>\n",
       "<table border=\"1\" class=\"dataframe\">\n",
       "  <thead>\n",
       "    <tr style=\"text-align: right;\">\n",
       "      <th></th>\n",
       "      <th>Quantity</th>\n",
       "      <th>Price</th>\n",
       "      <th>Total_Sales</th>\n",
       "    </tr>\n",
       "  </thead>\n",
       "  <tbody>\n",
       "    <tr>\n",
       "      <th>count</th>\n",
       "      <td>200.000000</td>\n",
       "      <td>200.000000</td>\n",
       "      <td>200.000000</td>\n",
       "    </tr>\n",
       "    <tr>\n",
       "      <th>mean</th>\n",
       "      <td>3.015000</td>\n",
       "      <td>12102.030000</td>\n",
       "      <td>36222.185000</td>\n",
       "    </tr>\n",
       "    <tr>\n",
       "      <th>std</th>\n",
       "      <td>1.379962</td>\n",
       "      <td>14758.015052</td>\n",
       "      <td>50919.852045</td>\n",
       "    </tr>\n",
       "    <tr>\n",
       "      <th>min</th>\n",
       "      <td>1.000000</td>\n",
       "      <td>229.000000</td>\n",
       "      <td>229.000000</td>\n",
       "    </tr>\n",
       "    <tr>\n",
       "      <th>25%</th>\n",
       "      <td>2.000000</td>\n",
       "      <td>2264.250000</td>\n",
       "      <td>4767.500000</td>\n",
       "    </tr>\n",
       "    <tr>\n",
       "      <th>50%</th>\n",
       "      <td>3.000000</td>\n",
       "      <td>3878.500000</td>\n",
       "      <td>14280.000000</td>\n",
       "    </tr>\n",
       "    <tr>\n",
       "      <th>75%</th>\n",
       "      <td>4.000000</td>\n",
       "      <td>19248.250000</td>\n",
       "      <td>43772.500000</td>\n",
       "    </tr>\n",
       "    <tr>\n",
       "      <th>max</th>\n",
       "      <td>5.000000</td>\n",
       "      <td>49997.000000</td>\n",
       "      <td>249985.000000</td>\n",
       "    </tr>\n",
       "  </tbody>\n",
       "</table>\n",
       "</div>"
      ],
      "text/plain": [
       "         Quantity         Price    Total_Sales\n",
       "count  200.000000    200.000000     200.000000\n",
       "mean     3.015000  12102.030000   36222.185000\n",
       "std      1.379962  14758.015052   50919.852045\n",
       "min      1.000000    229.000000     229.000000\n",
       "25%      2.000000   2264.250000    4767.500000\n",
       "50%      3.000000   3878.500000   14280.000000\n",
       "75%      4.000000  19248.250000   43772.500000\n",
       "max      5.000000  49997.000000  249985.000000"
      ]
     },
     "execution_count": 6,
     "metadata": {},
     "output_type": "execute_result"
    }
   ],
   "source": [
    "df.describe()"
   ]
  },
  {
   "cell_type": "code",
   "execution_count": 7,
   "id": "4af9226a-d777-4eb1-b194-4e05274a18a9",
   "metadata": {},
   "outputs": [
    {
     "data": {
      "text/plain": [
       "Index(['Date', 'Invoice_ID', 'Product_Name', 'Category', 'Quantity', 'Price',\n",
       "       'Total_Sales', 'Customer_ID', 'Payment_Method'],\n",
       "      dtype='object')"
      ]
     },
     "execution_count": 7,
     "metadata": {},
     "output_type": "execute_result"
    }
   ],
   "source": [
    "df.columns"
   ]
  },
  {
   "cell_type": "code",
   "execution_count": 8,
   "id": "4f948713-3859-4b8c-8f29-aaeaec2ebeff",
   "metadata": {},
   "outputs": [
    {
     "data": {
      "text/plain": [
       "Date              0\n",
       "Invoice_ID        0\n",
       "Product_Name      0\n",
       "Category          0\n",
       "Quantity          0\n",
       "Price             0\n",
       "Total_Sales       0\n",
       "Customer_ID       0\n",
       "Payment_Method    0\n",
       "dtype: int64"
      ]
     },
     "execution_count": 8,
     "metadata": {},
     "output_type": "execute_result"
    }
   ],
   "source": [
    "df.isnull().sum()"
   ]
  },
  {
   "cell_type": "code",
   "execution_count": 9,
   "id": "2132fae8-1c88-4e8e-8f7f-ae54322a7096",
   "metadata": {},
   "outputs": [],
   "source": [
    "df.drop_duplicates(inplace=True)"
   ]
  },
  {
   "cell_type": "code",
   "execution_count": 10,
   "id": "456c676d-7f9f-48e7-961c-c53d9d0a8967",
   "metadata": {},
   "outputs": [
    {
     "data": {
      "text/html": [
       "<div>\n",
       "<style scoped>\n",
       "    .dataframe tbody tr th:only-of-type {\n",
       "        vertical-align: middle;\n",
       "    }\n",
       "\n",
       "    .dataframe tbody tr th {\n",
       "        vertical-align: top;\n",
       "    }\n",
       "\n",
       "    .dataframe thead th {\n",
       "        text-align: right;\n",
       "    }\n",
       "</style>\n",
       "<table border=\"1\" class=\"dataframe\">\n",
       "  <thead>\n",
       "    <tr style=\"text-align: right;\">\n",
       "      <th></th>\n",
       "      <th>Date</th>\n",
       "      <th>Invoice_ID</th>\n",
       "      <th>Product_Name</th>\n",
       "      <th>Category</th>\n",
       "      <th>Quantity</th>\n",
       "      <th>Price</th>\n",
       "      <th>Total_Sales</th>\n",
       "      <th>Customer_ID</th>\n",
       "      <th>Payment_Method</th>\n",
       "    </tr>\n",
       "  </thead>\n",
       "  <tbody>\n",
       "    <tr>\n",
       "      <th>0</th>\n",
       "      <td>2024-01-01 00:00:00.000000000</td>\n",
       "      <td>INV1000</td>\n",
       "      <td>Smartphone</td>\n",
       "      <td>Electronics</td>\n",
       "      <td>1</td>\n",
       "      <td>49098</td>\n",
       "      <td>49098</td>\n",
       "      <td>CUST18</td>\n",
       "      <td>UPI</td>\n",
       "    </tr>\n",
       "    <tr>\n",
       "      <th>1</th>\n",
       "      <td>2024-01-01 21:49:44.924623115</td>\n",
       "      <td>INV1001</td>\n",
       "      <td>Tablet</td>\n",
       "      <td>Electronics</td>\n",
       "      <td>2</td>\n",
       "      <td>48765</td>\n",
       "      <td>97530</td>\n",
       "      <td>CUST7</td>\n",
       "      <td>Cash</td>\n",
       "    </tr>\n",
       "    <tr>\n",
       "      <th>2</th>\n",
       "      <td>2024-01-02 19:39:29.849246231</td>\n",
       "      <td>INV1002</td>\n",
       "      <td>Jeans</td>\n",
       "      <td>Fashion</td>\n",
       "      <td>4</td>\n",
       "      <td>460</td>\n",
       "      <td>1840</td>\n",
       "      <td>CUST2</td>\n",
       "      <td>Cash</td>\n",
       "    </tr>\n",
       "    <tr>\n",
       "      <th>3</th>\n",
       "      <td>2024-01-03 17:29:14.773869346</td>\n",
       "      <td>INV1003</td>\n",
       "      <td>Tablet</td>\n",
       "      <td>Electronics</td>\n",
       "      <td>2</td>\n",
       "      <td>33618</td>\n",
       "      <td>67236</td>\n",
       "      <td>CUST39</td>\n",
       "      <td>Cash</td>\n",
       "    </tr>\n",
       "    <tr>\n",
       "      <th>4</th>\n",
       "      <td>2024-01-04 15:18:59.698492462</td>\n",
       "      <td>INV1004</td>\n",
       "      <td>T-shirt</td>\n",
       "      <td>Fashion</td>\n",
       "      <td>2</td>\n",
       "      <td>4664</td>\n",
       "      <td>9328</td>\n",
       "      <td>CUST27</td>\n",
       "      <td>UPI</td>\n",
       "    </tr>\n",
       "  </tbody>\n",
       "</table>\n",
       "</div>"
      ],
      "text/plain": [
       "                            Date Invoice_ID Product_Name     Category  \\\n",
       "0  2024-01-01 00:00:00.000000000    INV1000   Smartphone  Electronics   \n",
       "1  2024-01-01 21:49:44.924623115    INV1001       Tablet  Electronics   \n",
       "2  2024-01-02 19:39:29.849246231    INV1002        Jeans      Fashion   \n",
       "3  2024-01-03 17:29:14.773869346    INV1003       Tablet  Electronics   \n",
       "4  2024-01-04 15:18:59.698492462    INV1004      T-shirt      Fashion   \n",
       "\n",
       "   Quantity  Price  Total_Sales Customer_ID Payment_Method  \n",
       "0         1  49098        49098      CUST18            UPI  \n",
       "1         2  48765        97530       CUST7           Cash  \n",
       "2         4    460         1840       CUST2           Cash  \n",
       "3         2  33618        67236      CUST39           Cash  \n",
       "4         2   4664         9328      CUST27            UPI  "
      ]
     },
     "execution_count": 10,
     "metadata": {},
     "output_type": "execute_result"
    }
   ],
   "source": [
    "df.head()"
   ]
  },
  {
   "cell_type": "markdown",
   "id": "126b857e-0844-4aa8-a4d9-6601a6776d0d",
   "metadata": {},
   "source": [
    "# Exploratory Data Analysis (EDA)"
   ]
  },
  {
   "cell_type": "code",
   "execution_count": 11,
   "id": "35e7323b-3c7d-48fd-9844-9b5117efd8ed",
   "metadata": {},
   "outputs": [
    {
     "name": "stdout",
     "output_type": "stream",
     "text": [
      "Total Revenue: 7244437\n"
     ]
    }
   ],
   "source": [
    "total_revenue = df[\"Total_Sales\"].sum()\n",
    "print(\"Total Revenue:\", df[\"Total_Sales\"].sum())\n"
   ]
  },
  {
   "cell_type": "code",
   "execution_count": 12,
   "id": "44fb2984-39f4-466c-a515-85b0156cac0a",
   "metadata": {},
   "outputs": [],
   "source": [
    "total_invoices = df[\"Invoice_ID\"].nunique()\n"
   ]
  },
  {
   "cell_type": "code",
   "execution_count": 13,
   "id": "eea57c8e-724b-4498-a833-692b15f51221",
   "metadata": {},
   "outputs": [],
   "source": [
    "total_customers = df[\"Customer_ID\"].nunique()\n"
   ]
  },
  {
   "cell_type": "code",
   "execution_count": 14,
   "id": "c1e8bcf0-a152-4fb9-a50a-d1a01f62d850",
   "metadata": {},
   "outputs": [],
   "source": [
    "best_products = df.groupby(\"Product_Name\")[\"Total_Sales\"].sum().sort_values(ascending=False).head(5)\n"
   ]
  },
  {
   "cell_type": "code",
   "execution_count": 15,
   "id": "5fb4a16e-ef1e-4885-b5fd-4eefda7ba16b",
   "metadata": {},
   "outputs": [],
   "source": [
    "category_sales = df.groupby(\"Category\")[\"Total_Sales\"].sum().sort_values(ascending=False)\n"
   ]
  },
  {
   "cell_type": "code",
   "execution_count": 16,
   "id": "c6eecf73-3e06-4516-b69f-536d090cf2b6",
   "metadata": {},
   "outputs": [],
   "source": [
    "payment_counts = df[\"Payment_Method\"].value_counts()\n"
   ]
  },
  {
   "cell_type": "code",
   "execution_count": 17,
   "id": "fea0ed91-d359-46a0-8e10-40f83bd73945",
   "metadata": {},
   "outputs": [],
   "source": [
    "df[\"Month\"] = pd.to_datetime(df[\"Date\"]).dt.month_name()\n",
    "monthly_sales = df.groupby(\"Month\")[\"Total_Sales\"].sum()\n"
   ]
  },
  {
   "cell_type": "code",
   "execution_count": 18,
   "id": "70034ea9-0250-4b5b-95db-91e09a5adede",
   "metadata": {},
   "outputs": [
    {
     "data": {
      "text/html": [
       "<div>\n",
       "<style scoped>\n",
       "    .dataframe tbody tr th:only-of-type {\n",
       "        vertical-align: middle;\n",
       "    }\n",
       "\n",
       "    .dataframe tbody tr th {\n",
       "        vertical-align: top;\n",
       "    }\n",
       "\n",
       "    .dataframe thead th {\n",
       "        text-align: right;\n",
       "    }\n",
       "</style>\n",
       "<table border=\"1\" class=\"dataframe\">\n",
       "  <thead>\n",
       "    <tr style=\"text-align: right;\">\n",
       "      <th></th>\n",
       "      <th>Date</th>\n",
       "      <th>Invoice_ID</th>\n",
       "      <th>Product_Name</th>\n",
       "      <th>Category</th>\n",
       "      <th>Quantity</th>\n",
       "      <th>Price</th>\n",
       "      <th>Total_Sales</th>\n",
       "      <th>Customer_ID</th>\n",
       "      <th>Payment_Method</th>\n",
       "      <th>Month</th>\n",
       "    </tr>\n",
       "  </thead>\n",
       "  <tbody>\n",
       "    <tr>\n",
       "      <th>0</th>\n",
       "      <td>2024-01-01 00:00:00.000000000</td>\n",
       "      <td>INV1000</td>\n",
       "      <td>Smartphone</td>\n",
       "      <td>Electronics</td>\n",
       "      <td>1</td>\n",
       "      <td>49098</td>\n",
       "      <td>49098</td>\n",
       "      <td>CUST18</td>\n",
       "      <td>UPI</td>\n",
       "      <td>January</td>\n",
       "    </tr>\n",
       "    <tr>\n",
       "      <th>1</th>\n",
       "      <td>2024-01-01 21:49:44.924623115</td>\n",
       "      <td>INV1001</td>\n",
       "      <td>Tablet</td>\n",
       "      <td>Electronics</td>\n",
       "      <td>2</td>\n",
       "      <td>48765</td>\n",
       "      <td>97530</td>\n",
       "      <td>CUST7</td>\n",
       "      <td>Cash</td>\n",
       "      <td>January</td>\n",
       "    </tr>\n",
       "    <tr>\n",
       "      <th>2</th>\n",
       "      <td>2024-01-02 19:39:29.849246231</td>\n",
       "      <td>INV1002</td>\n",
       "      <td>Jeans</td>\n",
       "      <td>Fashion</td>\n",
       "      <td>4</td>\n",
       "      <td>460</td>\n",
       "      <td>1840</td>\n",
       "      <td>CUST2</td>\n",
       "      <td>Cash</td>\n",
       "      <td>January</td>\n",
       "    </tr>\n",
       "    <tr>\n",
       "      <th>3</th>\n",
       "      <td>2024-01-03 17:29:14.773869346</td>\n",
       "      <td>INV1003</td>\n",
       "      <td>Tablet</td>\n",
       "      <td>Electronics</td>\n",
       "      <td>2</td>\n",
       "      <td>33618</td>\n",
       "      <td>67236</td>\n",
       "      <td>CUST39</td>\n",
       "      <td>Cash</td>\n",
       "      <td>January</td>\n",
       "    </tr>\n",
       "    <tr>\n",
       "      <th>4</th>\n",
       "      <td>2024-01-04 15:18:59.698492462</td>\n",
       "      <td>INV1004</td>\n",
       "      <td>T-shirt</td>\n",
       "      <td>Fashion</td>\n",
       "      <td>2</td>\n",
       "      <td>4664</td>\n",
       "      <td>9328</td>\n",
       "      <td>CUST27</td>\n",
       "      <td>UPI</td>\n",
       "      <td>January</td>\n",
       "    </tr>\n",
       "  </tbody>\n",
       "</table>\n",
       "</div>"
      ],
      "text/plain": [
       "                            Date Invoice_ID Product_Name     Category  \\\n",
       "0  2024-01-01 00:00:00.000000000    INV1000   Smartphone  Electronics   \n",
       "1  2024-01-01 21:49:44.924623115    INV1001       Tablet  Electronics   \n",
       "2  2024-01-02 19:39:29.849246231    INV1002        Jeans      Fashion   \n",
       "3  2024-01-03 17:29:14.773869346    INV1003       Tablet  Electronics   \n",
       "4  2024-01-04 15:18:59.698492462    INV1004      T-shirt      Fashion   \n",
       "\n",
       "   Quantity  Price  Total_Sales Customer_ID Payment_Method    Month  \n",
       "0         1  49098        49098      CUST18            UPI  January  \n",
       "1         2  48765        97530       CUST7           Cash  January  \n",
       "2         4    460         1840       CUST2           Cash  January  \n",
       "3         2  33618        67236      CUST39           Cash  January  \n",
       "4         2   4664         9328      CUST27            UPI  January  "
      ]
     },
     "execution_count": 18,
     "metadata": {},
     "output_type": "execute_result"
    }
   ],
   "source": [
    "top_customers = df.groupby(\"Customer_ID\")[\"Total_Sales\"].sum().sort_values(ascending=False).head(5)\n",
    "df.head(5)"
   ]
  },
  {
   "cell_type": "code",
   "execution_count": 19,
   "id": "32f909b2-a274-467f-93b7-6bc06726724d",
   "metadata": {},
   "outputs": [
    {
     "name": "stdout",
     "output_type": "stream",
     "text": [
      "Total Revenue: 7244437\n",
      "Total Invoices: 200\n",
      "Total Customers: 49\n",
      "\n",
      "Top 5 Products by Sales:\n",
      " Product_Name\n",
      "Smartphone    2138093\n",
      "Laptop        1572252\n",
      "Tablet        1552704\n",
      "Camera        1005768\n",
      "Smartwatch     251131\n",
      "Name: Total_Sales, dtype: int64\n",
      "\n",
      "Sales by Category:\n",
      " Category\n",
      "Electronics    6268817\n",
      "Accessories     490573\n",
      "Fashion         485047\n",
      "Name: Total_Sales, dtype: int64\n",
      "\n",
      "Payment Method Counts:\n",
      " Payment_Method\n",
      "UPI            57\n",
      "Debit Card     52\n",
      "Cash           46\n",
      "Credit Card    45\n",
      "Name: count, dtype: int64\n",
      "\n",
      "Monthly Sales:\n",
      " Month\n",
      "January     1443709\n",
      "May         1430654\n",
      "April       1181917\n",
      "June        1150446\n",
      "February    1072267\n",
      "March        965444\n",
      "Name: Total_Sales, dtype: int64\n",
      "\n",
      "Top 5 Customers:\n",
      " Customer_ID\n",
      "CUST39    367185\n",
      "CUST11    364732\n",
      "CUST18    363814\n",
      "CUST43    361005\n",
      "CUST20    345510\n",
      "Name: Total_Sales, dtype: int64\n"
     ]
    }
   ],
   "source": [
    "# 1. Overall Sales Summary\n",
    "print(\"Total Revenue:\", df[\"Total_Sales\"].sum())\n",
    "print(\"Total Invoices:\", df[\"Invoice_ID\"].nunique())\n",
    "print(\"Total Customers:\", df[\"Customer_ID\"].nunique())\n",
    "\n",
    "# 2. Best Selling Products\n",
    "best_products = df.groupby(\"Product_Name\")[\"Total_Sales\"].sum().sort_values(ascending=False).head(5)\n",
    "print(\"\\nTop 5 Products by Sales:\\n\", best_products)\n",
    "\n",
    "# 3. Category-wise Sales\n",
    "category_sales = df.groupby(\"Category\")[\"Total_Sales\"].sum().sort_values(ascending=False)\n",
    "print(\"\\nSales by Category:\\n\", category_sales)\n",
    "\n",
    "# 4. Payment Method Analysis\n",
    "payment_counts = df[\"Payment_Method\"].value_counts()\n",
    "print(\"\\nPayment Method Counts:\\n\", payment_counts)\n",
    "\n",
    "# 5. Monthly Sales\n",
    "monthly_sales = df.groupby(\"Month\")[\"Total_Sales\"].sum().sort_values(ascending=False)\n",
    "print(\"\\nMonthly Sales:\\n\", monthly_sales)\n",
    "\n",
    "# 6. Top Customers\n",
    "top_customers = df.groupby(\"Customer_ID\")[\"Total_Sales\"].sum().sort_values(ascending=False).head(5)\n",
    "print(\"\\nTop 5 Customers:\\n\", top_customers)\n"
   ]
  },
  {
   "cell_type": "markdown",
   "id": "1ebd18b6-d6b2-4638-b20d-ce360e14f990",
   "metadata": {},
   "source": [
    "# visualization"
   ]
  },
  {
   "cell_type": "markdown",
   "id": "a8df6dd3-786b-477a-b6a6-9363bc863d9e",
   "metadata": {},
   "source": [
    "# Best Selling Products (Bar Chart)"
   ]
  },
  {
   "cell_type": "code",
   "execution_count": 20,
   "id": "1b93935a-8f86-401e-8271-f722410a53c9",
   "metadata": {},
   "outputs": [
    {
     "name": "stderr",
     "output_type": "stream",
     "text": [
      "C:\\Users\\gonda\\AppData\\Local\\Temp\\ipykernel_9912\\708407496.py:5: FutureWarning: \n",
      "\n",
      "Passing `palette` without assigning `hue` is deprecated and will be removed in v0.14.0. Assign the `y` variable to `hue` and set `legend=False` for the same effect.\n",
      "\n",
      "  sns.barplot(x=best_products.values, y=best_products.index, palette=\"viridis\")\n"
     ]
    },
    {
     "data": {
      "image/png": "[encoded data removed]",
      "text/plain": [
       "<Figure size 800x500 with 1 Axes>"
      ]
     },
     "metadata": {},
     "output_type": "display_data"
    }
   ],
   "source": [
    "# Top 5 Products by Sales\n",
    "best_products = df.groupby(\"Product_Name\")[\"Total_Sales\"].sum().sort_values(ascending=False).head(5)\n",
    "\n",
    "plt.figure(figsize=(8,5))\n",
    "sns.barplot(x=best_products.values, y=best_products.index, palette=\"viridis\")\n",
    "plt.title(\"Top 5 Best Selling Products\")\n",
    "plt.xlabel(\"Total Sales\")\n",
    "plt.ylabel(\"Product Name\")\n",
    "plt.show()\n"
   ]
  },
  {
   "cell_type": "markdown",
   "id": "34481101-c2ed-4935-a4de-af327eaf9741",
   "metadata": {},
   "source": [
    "# Category-wise Sales (Bar Chart)"
   ]
  },
  {
   "cell_type": "code",
   "execution_count": 21,
   "id": "dd855d92-64c2-4327-b3e1-be13aef27526",
   "metadata": {},
   "outputs": [
    {
     "name": "stderr",
     "output_type": "stream",
     "text": [
      "C:\\Users\\gonda\\AppData\\Local\\Temp\\ipykernel_9912\\2733312931.py:4: FutureWarning: \n",
      "\n",
      "Passing `palette` without assigning `hue` is deprecated and will be removed in v0.14.0. Assign the `y` variable to `hue` and set `legend=False` for the same effect.\n",
      "\n",
      "  sns.barplot(x=category_sales.values, y=category_sales.index, palette=\"magma\")\n"
     ]
    },
    {
     "data": {
      "image/png": "[encoded data removed]",
      "text/plain": [
       "<Figure size 600x400 with 1 Axes>"
      ]
     },
     "metadata": {},
     "output_type": "display_data"
    }
   ],
   "source": [
    "category_sales = df.groupby(\"Category\")[\"Total_Sales\"].sum().sort_values(ascending=False)\n",
    "\n",
    "plt.figure(figsize=(6,4))\n",
    "sns.barplot(x=category_sales.values, y=category_sales.index, palette=\"magma\")\n",
    "plt.title(\"Sales by Category\")\n",
    "plt.xlabel(\"Total Sales\")\n",
    "plt.ylabel(\"Category\")\n",
    "plt.show()\n"
   ]
  },
  {
   "cell_type": "markdown",
   "id": "ff7c0b11-bcc8-49b3-bfe3-10819ac7bbdf",
   "metadata": {},
   "source": [
    "# Payment Method Distribution (Pie Chart)"
   ]
  },
  {
   "cell_type": "code",
   "execution_count": 22,
   "id": "5af94b1f-427a-4265-ad62-76f64bb77b2b",
   "metadata": {},
   "outputs": [
    {
     "data": {
      "image/png": "[encoded data removed]",
      "text/plain": [
       "<Figure size 600x600 with 1 Axes>"
      ]
     },
     "metadata": {},
     "output_type": "display_data"
    }
   ],
   "source": [
    "payment_counts = df[\"Payment_Method\"].value_counts()\n",
    "\n",
    "plt.figure(figsize=(6,6))\n",
    "plt.pie(payment_counts, labels=payment_counts.index, autopct=\"%1.1f%%\", startangle=90, colors=sns.color_palette(\"Set2\"))\n",
    "plt.title(\"Payment Method Distribution\")\n",
    "plt.show()\n"
   ]
  },
  {
   "cell_type": "markdown",
   "id": "909e7a1e-5a57-4914-ba0d-8ddf7ce8fc99",
   "metadata": {},
   "source": [
    "# Monthly Sales Trend (Line Chart)"
   ]
  },
  {
   "cell_type": "code",
   "execution_count": 23,
   "id": "02014ed3-8834-4341-abe5-ddcb916605d2",
   "metadata": {},
   "outputs": [
    {
     "data": {
      "image/png": "[encoded data removed]",
      "text/plain": [
       "<Figure size 800x500 with 1 Axes>"
      ]
     },
     "metadata": {},
     "output_type": "display_data"
    }
   ],
   "source": [
    "monthly_sales = df.groupby(\"Month\")[\"Total_Sales\"].sum()\n",
    "\n",
    "plt.figure(figsize=(8,5))\n",
    "sns.lineplot(x=monthly_sales.index, y=monthly_sales.values, marker=\"o\", linewidth=2, color=\"blue\")\n",
    "plt.title(\"Monthly Sales Trend\")\n",
    "plt.xlabel(\"Month\")\n",
    "plt.ylabel(\"Total Sales\")\n",
    "plt.xticks(rotation=45)\n",
    "plt.show()\n"
   ]
  },
  {
   "cell_type": "code",
   "execution_count": 24,
   "id": "36b20246-c296-4aac-a916-931c8ced8122",
   "metadata": {},
   "outputs": [
    {
     "name": "stderr",
     "output_type": "stream",
     "text": [
      "C:\\Users\\gonda\\AppData\\Local\\Temp\\ipykernel_9912\\1553665695.py:4: FutureWarning: \n",
      "\n",
      "Passing `palette` without assigning `hue` is deprecated and will be removed in v0.14.0. Assign the `y` variable to `hue` and set `legend=False` for the same effect.\n",
      "\n",
      "  sns.barplot(x=top_customers.values, y=top_customers.index, palette=\"coolwarm\")\n"
     ]
    },
    {
     "data": {
      "image/png": "[encoded data removed]",
      "text/plain": [
       "<Figure size 800x500 with 1 Axes>"
      ]
     },
     "metadata": {},
     "output_type": "display_data"
    }
   ],
   "source": [
    "top_customers = df.groupby(\"Customer_ID\")[\"Total_Sales\"].sum().sort_values(ascending=False).head(5)\n",
    "\n",
    "plt.figure(figsize=(8,5))\n",
    "sns.barplot(x=top_customers.values, y=top_customers.index, palette=\"coolwarm\")\n",
    "plt.title(\"Top 5 Customers by Spending\")\n",
    "plt.xlabel(\"Total Sales\")\n",
    "plt.ylabel(\"Customer ID\")\n",
    "plt.show()\n"
   ]
  },
  {
   "cell_type": "code",
   "execution_count": 27,
   "id": "25447287-c943-4765-a9cd-1bcba31631ae",
   "metadata": {},
   "outputs": [
    {
     "name": "stdout",
     "output_type": "stream",
     "text": [
      "   Month  Revenue\n",
      "0      1  1443709\n",
      "1      2  1072267\n",
      "2      3   965444\n",
      "3      4  1181917\n",
      "4      5  1430654\n",
      "5      6  1150446\n"
     ]
    }
   ],
   "source": [
    "# Month wise sales\n",
    "df['Date'] = pd.to_datetime(df['Date'])\n",
    "monthly_sales = df.groupby(df['Date'].dt.month)[\"Total_Sales\"].sum().reset_index()\n",
    "monthly_sales.columns = [\"Month\", \"Revenue\"]\n",
    "\n",
    "print(monthly_sales)\n"
   ]
  },
  {
   "cell_type": "code",
   "execution_count": 28,
   "id": "60aed4b9-e407-4d3d-9c84-8646405ef615",
   "metadata": {},
   "outputs": [
    {
     "name": "stdout",
     "output_type": "stream",
     "text": [
      "MAE: 316995.65\n",
      "R² Score: -3.3928870786432004\n"
     ]
    }
   ],
   "source": [
    "# Features (X) and Target (y)\n",
    "X = monthly_sales[[\"Month\"]]   # month number as feature\n",
    "y = monthly_sales[\"Revenue\"]\n",
    "\n",
    "# Train-Test Split\n",
    "X_train, X_test, y_train, y_test = train_test_split(X, y, test_size=0.2, random_state=42)\n",
    "\n",
    "# Model\n",
    "model = LinearRegression()\n",
    "model.fit(X_train, y_train)\n",
    "\n",
    "# Predictions\n",
    "y_pred = model.predict(X_test)\n",
    "\n",
    "# Evaluation\n",
    "print(\"MAE:\", mean_absolute_error(y_test, y_pred))\n",
    "print(\"R² Score:\", r2_score(y_test, y_pred))\n"
   ]
  },
  {
   "cell_type": "code",
   "execution_count": 29,
   "id": "504a6a63-067d-4c6b-97bc-e66ecaf9cba9",
   "metadata": {},
   "outputs": [
    {
     "name": "stdout",
     "output_type": "stream",
     "text": [
      "Predicted Sales for July: 1383051.0\n"
     ]
    },
    {
     "name": "stderr",
     "output_type": "stream",
     "text": [
      "C:\\Users\\gonda\\anaconda3\\Lib\\site-packages\\sklearn\\utils\\validation.py:2739: UserWarning: X does not have valid feature names, but LinearRegression was fitted with feature names\n",
      "  warnings.warn(\n"
     ]
    }
   ],
   "source": [
    "# Predict for month = 7 (July)\n",
    "future_month = [[7]]\n",
    "future_sales = model.predict(future_month)\n",
    "print(\"Predicted Sales for July:\", future_sales[0])\n"
   ]
  },
  {
   "cell_type": "code",
   "execution_count": 30,
   "id": "5055bc74-9406-4be4-a363-2b1c46e35d2f",
   "metadata": {},
   "outputs": [],
   "source": [
    "\n",
    "df.to_csv(\"cleaned_sales_data.csv\", index=False)\n"
   ]
  },
  {
   "cell_type": "code",
   "execution_count": null,
   "id": "3f2a06bd-5330-46e7-a87c-4ae0ab4391c4",
   "metadata": {},
   "outputs": [],
   "source": []
  }
 ],
 "metadata": {
  "kernelspec": {
   "display_name": "Python 3 (ipykernel)",
   "language": "python",
   "name": "python3"
  },
  "language_info": {
   "codemirror_mode": {
    "name": "ipython",
    "version": 3
   },
   "file_extension": ".py",
   "mimetype": "text/x-python",
   "name": "python",
   "nbconvert_exporter": "python",
   "pygments_lexer": "ipython3",
   "version": "3.13.5"
  }
 },
 "nbformat": 4,
 "nbformat_minor": 5
}
